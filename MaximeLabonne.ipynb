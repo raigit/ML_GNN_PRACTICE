{
  "nbformat": 4,
  "nbformat_minor": 0,
  "metadata": {
    "colab": {
      "provenance": [],
      "mount_file_id": "1TsAHHSA0NOgL0jB19EoTnNJ064ISpUgq",
      "authorship_tag": "ABX9TyOFLpFHFSlWe6vIbxYUU2fK",
      "include_colab_link": true
    },
    "kernelspec": {
      "name": "python3",
      "display_name": "Python 3"
    },
    "language_info": {
      "name": "python"
    }
  },
  "cells": [
    {
      "cell_type": "markdown",
      "metadata": {
        "id": "view-in-github",
        "colab_type": "text"
      },
      "source": [
        "<a href=\"https://colab.research.google.com/github/raigit/ML_GNN_PRACTICE/blob/master/MaximeLabonne.ipynb\" target=\"_parent\"><img src=\"https://colab.research.google.com/assets/colab-badge.svg\" alt=\"Open In Colab\"/></a>"
      ]
    },
    {
      "cell_type": "code",
      "source": [
        "'''\n",
        "Every codes and texts comes form Maxime Labonne's github\n",
        "'''"
      ],
      "metadata": {
        "id": "ZMbJMzDt0JoO"
      },
      "execution_count": null,
      "outputs": []
    },
    {
      "cell_type": "code",
      "source": [
        "# Graph Convolutional Netwroks : Introduction to GNNs"
      ],
      "metadata": {
        "id": "4VChLBJnyVyG"
      },
      "execution_count": null,
      "outputs": []
    },
    {
      "cell_type": "code",
      "execution_count": 1,
      "metadata": {
        "colab": {
          "base_uri": "https://localhost:8080/"
        },
        "id": "dEog9cj9oL9i",
        "outputId": "7705ace5-acd9-4b00-b7a7-91a2186476b4"
      },
      "outputs": [
        {
          "output_type": "stream",
          "name": "stdout",
          "text": [
            "\u001b[2K     \u001b[90m━━━━━━━━━━━━━━━━━━━━━━━━━━━━━━━━━━━━━━━━\u001b[0m \u001b[32m9.4/9.4 MB\u001b[0m \u001b[31m29.9 MB/s\u001b[0m eta \u001b[36m0:00:00\u001b[0m\n",
            "\u001b[2K     \u001b[90m━━━━━━━━━━━━━━━━━━━━━━━━━━━━━━━━━━━━━━━━\u001b[0m \u001b[32m4.5/4.5 MB\u001b[0m \u001b[31m13.1 MB/s\u001b[0m eta \u001b[36m0:00:00\u001b[0m\n",
            "\u001b[?25h  Installing build dependencies ... \u001b[?25l\u001b[?25hdone\n",
            "  Getting requirements to build wheel ... \u001b[?25l\u001b[?25hdone\n",
            "  Preparing metadata (pyproject.toml) ... \u001b[?25l\u001b[?25hdone\n",
            "\u001b[2K     \u001b[90m━━━━━━━━━━━━━━━━━━━━━━━━━━━━━━━━━━━━━━━\u001b[0m \u001b[32m280.2/280.2 KB\u001b[0m \u001b[31m6.0 MB/s\u001b[0m eta \u001b[36m0:00:00\u001b[0m\n",
            "\u001b[?25h  Building wheel for torch-geometric (pyproject.toml) ... \u001b[?25l\u001b[?25hdone\n"
          ]
        }
      ],
      "source": [
        "import torch\n",
        "! pip install -q torch-scatter -f https://data.pyg.org/whl/torch-{torch.__version__}.html\n",
        "! pip install -q torch-sparse -f https://data.pyg.org/whl/torch-{torch.__version__}.html\n",
        "! pip install -q git+https://github.com/pyg-team/pytorch_geometric.git\n",
        "\n",
        "import numpy as np\n",
        "\n",
        "import matplotlib.pyplot as plt\n",
        "import networkx as nx"
      ]
    },
    {
      "cell_type": "code",
      "source": [
        "# node classification using Zachary's karate club\n",
        "\n",
        "from torch_geometric.datasets import KarateClub\n",
        "dataset = KarateClub()"
      ],
      "metadata": {
        "id": "QPGA4zGAt-GP"
      },
      "execution_count": 2,
      "outputs": []
    },
    {
      "cell_type": "code",
      "source": [
        "print(dataset)\n",
        "print('*****')\n",
        "print(f'Number of graphs : {len(dataset)}')\n",
        "print(f'Number of features : {dataset.num_features}')\n",
        "print(f'Number of classes : {dataset.num_classes}')\n",
        "# Each node has a feature vector of 34 dimensions and is part of one out of four classes"
      ],
      "metadata": {
        "colab": {
          "base_uri": "https://localhost:8080/"
        },
        "id": "9JGREn9txx4Y",
        "outputId": "4efd840f-256a-47cb-a406-d42b8693ee80"
      },
      "execution_count": 5,
      "outputs": [
        {
          "output_type": "stream",
          "name": "stdout",
          "text": [
            "KarateClub()\n",
            "*****\n",
            "Number of graphs : 1\n",
            "Number of features : 34\n",
            "Number of classes : 4\n"
          ]
        }
      ]
    },
    {
      "cell_type": "code",
      "source": [
        "print(f'Graph : {dataset[0]}')\n",
        "# Dataset object can be seen as a collection of Data(graph) object\n",
        "# x = [34, 34] : node feature matrix with shape (number of nodes, number of features)\n",
        "# in this example, we have 34 nodes and each node being associated to a 34-dim feature vector\n",
        "# edge_index = [2, 156] : graph connectivity (how the nodes are connected) with shape"
      ],
      "metadata": {
        "colab": {
          "base_uri": "https://localhost:8080/"
        },
        "id": "NyKmTESUyDlK",
        "outputId": "0443dd28-e63f-4abd-95d0-790eb195de34"
      },
      "execution_count": 6,
      "outputs": [
        {
          "output_type": "stream",
          "name": "stdout",
          "text": [
            "Graph : Data(x=[34, 34], edge_index=[2, 156], y=[34], train_mask=[34])\n"
          ]
        }
      ]
    },
    {
      "cell_type": "code",
      "source": [],
      "metadata": {
        "id": "4740605pyTdc"
      },
      "execution_count": null,
      "outputs": []
    }
  ]
}